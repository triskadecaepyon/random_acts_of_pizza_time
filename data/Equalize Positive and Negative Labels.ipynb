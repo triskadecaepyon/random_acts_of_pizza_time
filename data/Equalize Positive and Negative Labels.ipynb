{
 "cells": [
  {
   "cell_type": "code",
   "execution_count": 17,
   "metadata": {
    "collapsed": false
   },
   "outputs": [
    {
     "name": "stdout",
     "output_type": "stream",
     "text": [
      "X length: 1988\n",
      "y length: 1988\n",
      "number of positive labels: 994\n",
      "number of negative labels: 994\n"
     ]
    }
   ],
   "source": [
    "import pandas as pd\n",
    "import numpy as np\n",
    "from sklearn.cross_validation import train_test_split\n",
    "\n",
    "pizza_data = pd.read_json('../data/train.json')\n",
    "X = pizza_data\n",
    "y = np.array(pizza_data['requester_received_pizza'])\n",
    "\n",
    "X_positive = X[y]\n",
    "y_positive = y[y]\n",
    "X_negative = X[np.logical_not(y)]\n",
    "y_negative = y[np.logical_not(y)]\n",
    "\n",
    "(X_negative, X_negative_remainder, y_negative, y_negative_remainder) = \\\n",
    "    train_test_split(X_negative, y_negative, train_size=len(X_positive))\n",
    "    \n",
    "X = pd.concat([X_positive, X_negative])\n",
    "y = np.concatenate([y_positive, y_negative])\n",
    "\n",
    "print \"X length: %d\" % len(X)\n",
    "print \"y length: %d\" % len(y)\n",
    "print \"number of positive labels: %d\" % y.sum()\n",
    "print \"number of negative labels: %d\" % (len(y) - y.sum())\n",
    "\n",
    "X.to_json(\"equalized_train_with_forced_ascii.json\", orient='records', force_ascii=False)\n",
    "X.to_json(\"equalized_train_without_forced_ascii.json\", orient='records', force_ascii=True)\n",
    "X.to_csv(\"equalized_train_index_only.csv\", columns=\"\", header=False)"
   ]
  },
  {
   "cell_type": "code",
   "execution_count": null,
   "metadata": {
    "collapsed": true
   },
   "outputs": [],
   "source": []
  },
  {
   "cell_type": "code",
   "execution_count": null,
   "metadata": {
    "collapsed": true
   },
   "outputs": [],
   "source": []
  }
 ],
 "metadata": {
  "kernelspec": {
   "display_name": "Python 2",
   "language": "python",
   "name": "python2"
  },
  "language_info": {
   "codemirror_mode": {
    "name": "ipython",
    "version": 2
   },
   "file_extension": ".py",
   "mimetype": "text/x-python",
   "name": "python",
   "nbconvert_exporter": "python",
   "pygments_lexer": "ipython2",
   "version": "2.7.9"
  }
 },
 "nbformat": 4,
 "nbformat_minor": 0
}
