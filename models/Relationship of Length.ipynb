{
 "cells": [
  {
   "cell_type": "code",
   "execution_count": 2,
   "metadata": {
    "collapsed": false
   },
   "outputs": [
    {
     "name": "stdout",
     "output_type": "stream",
     "text": [
      "Shape of training data:(4040, 32)\n",
      "Shape of test data:(1631, 17)\n"
     ]
    }
   ],
   "source": [
    "from sklearn.feature_extraction.text import CountVectorizer\n",
    "\n",
    "import numpy as np\n",
    "import pandas as pd\n",
    "import scipy as sp\n",
    "\n",
    "import matplotlib.pyplot as plt\n",
    "\n",
    "%matplotlib inline\n",
    "\n",
    "# Import the datasets via the read_json method from pandas\n",
    "pizza_data_train = pd.read_json('../data/train.json')\n",
    "pizza_data_test = pd.read_json('../data/test.json')\n",
    "\n",
    "# Analyze the size of the datasets\n",
    "print \"Shape of training data:\" + str(pizza_data_train.shape)\n",
    "print \"Shape of test data:\" + str(pizza_data_test.shape)\n"
   ]
  },
  {
   "cell_type": "code",
   "execution_count": 25,
   "metadata": {
    "collapsed": false
   },
   "outputs": [],
   "source": [
    "from sklearn.cross_validation import train_test_split\n",
    "#np.random.seed(1337)\n",
    "vectorizer = CountVectorizer(binary = True)\n",
    "#X = vectorizer.fit_transform(pizza_data_train['request_title'] + '_' + pizza_data_train['request_text_edit_aware'])\n",
    "X = vectorizer.fit_transform(pizza_data_train['request_text_edit_aware'])\n",
    "X = np.array(X.sum(axis=1))\n",
    "y = np.array(pizza_data_train['requester_received_pizza'])\n",
    "\n",
    "#X_positive = X[y]\n",
    "#y_positive = y[y]\n",
    "#X_negative = X[np.logical_not(y)]\n",
    "#y_negative = y[np.logical_not(y)]\n",
    "\n",
    "#old_X = X\n",
    "#old_y = y\n",
    "\n",
    "#(X_negative, X_negative_remainder, y_negative, y_negative_remainder) = \\\n",
    "#    train_test_split(X_negative, y_negative, train_size=len(X_positive))\n",
    "\n",
    "#X = np.concatenate((X_positive, X_negative))\n",
    "#y = np.concatenate((y_positive, y_negative))\n",
    "\n",
    "#(X_train, X_test, y_train, y_test) = \\\n",
    "#    train_test_split(X, y, train_size=0.75)"
   ]
  },
  {
   "cell_type": "code",
   "execution_count": 49,
   "metadata": {
    "collapsed": false
   },
   "outputs": [
    {
     "name": "stdout",
     "output_type": "stream",
     "text": [
      "Number of records with small length: 110\n",
      "Number of positive records with small length: 22\n"
     ]
    }
   ],
   "source": [
    "lengthFilter = X <= 0\n",
    "print \"Number of records with small length: %d\" % len(X[lengthFilter])\n",
    "print \"Number of positive records with small length: %d\" % y[lengthFilter.reshape(-1)].sum()\n",
    "pizza_data_train[(X == 0).reshape(-1)].to_csv(\"zero_length_records.csv\", encoding='utf-8')"
   ]
  },
  {
   "cell_type": "code",
   "execution_count": 228,
   "metadata": {
    "collapsed": false
   },
   "outputs": [
    {
     "name": "stdout",
     "output_type": "stream",
     "text": [
      "DescribeResult(nobs=1988, minmax=(array([6]), array([363])), mean=array([ 64.48591549]), variance=array([ 1516.08888054]), skewness=array([ 1.90711241]), kurtosis=array([ 6.17266542]))\n",
      "DescribeResult(nobs=1988, minmax=(array([ 1.79175947]), array([ 5.89440283])), mean=array([ 4.00495317]), variance=array([ 0.33587369]), skewness=array([-0.2739928]), kurtosis=array([ 0.62195857]))\n"
     ]
    },
    {
     "data": {
      "image/png": "[encoded data removed]",
      "text/plain": [
       "<matplotlib.figure.Figure at 0x7f28b1dc74d0>"
      ]
     },
     "metadata": {},
     "output_type": "display_data"
    },
    {
     "data": {
      "image/png": "[encoded data removed]",
      "text/plain": [
       "<matplotlib.figure.Figure at 0x7f28adc61550>"
      ]
     },
     "metadata": {},
     "output_type": "display_data"
    },
    {
     "name": "stdout",
     "output_type": "stream",
     "text": [
      "(array([ 792.25950483]), array([  2.60012537e-174]))\n"
     ]
    }
   ],
   "source": [
    "from sklearn.feature_selection import chi2\n",
    "log_X = np.log(X)\n",
    "\n",
    "print sp.stats.describe(X)\n",
    "print sp.stats.describe(log_X)\n",
    "plt.hist(log_X, bins=100)\n",
    "plt.show()\n",
    "\n",
    "plt.boxplot(X)\n",
    "plt.show()\n",
    "\n",
    "print chi2(np.array(X).reshape((len(X), 1)), y)"
   ]
  },
  {
   "cell_type": "markdown",
   "metadata": {},
   "source": [
    "Excellent! The above results tell us that there is a strong relationship between the sums of the documents and y. Let's see if we can predict y with the sums now :)"
   ]
  },
  {
   "cell_type": "code",
   "execution_count": 229,
   "metadata": {
    "collapsed": false
   },
   "outputs": [
    {
     "name": "stdout",
     "output_type": "stream",
     "text": [
      "RandomForestClassifier(bootstrap=True, compute_importances=None,\n",
      "            criterion='gini', max_depth=None, max_features='auto',\n",
      "            max_leaf_nodes=None, min_density=None, min_samples_leaf=1,\n",
      "            min_samples_split=2, n_estimators=100, n_jobs=1,\n",
      "            oob_score=False, random_state=None, verbose=0)\n",
      "0.63313212609\n",
      "0.521126760563\n",
      "[[138 100]\n",
      " [138 121]]\n"
     ]
    }
   ],
   "source": [
    "from sklearn.tree import DecisionTreeClassifier\n",
    "from sklearn.ensemble import RandomForestClassifier\n",
    "from sklearn.svm import SVC\n",
    "from sklearn.metrics import confusion_matrix\n",
    "\n",
    "clf = RandomForestClassifier(n_estimators=100)\n",
    "print clf\n",
    "clf.fit(X_train, y_train)\n",
    "print clf.score(X_train, y_train)\n",
    "print clf.score(X_test, y_test)\n",
    "\n",
    "\n",
    "y_pred = clf.predict(X_test)\n",
    "print confusion_matrix(y_test, y_pred)\n",
    "\n",
    "\n",
    "\n",
    "\n"
   ]
  },
  {
   "cell_type": "code",
   "execution_count": 230,
   "metadata": {
    "collapsed": false
   },
   "outputs": [
    {
     "name": "stdout",
     "output_type": "stream",
     "text": [
      "0.446965052115\n"
     ]
    }
   ],
   "source": [
    "clf.fit(X, y)\n",
    "X_real_test = vectorizer.fit_transform(pizza_data_test['request_title'] + '_' + pizza_data_test['request_text_edit_aware'])\n",
    "X_real_test = X_real_test.sum(axis=1)\n",
    "y_real_pred = clf.predict(X_real_test)\n",
    "print y_real_pred.sum() / float(len(y_real_pred))\n",
    "\n"
   ]
  },
  {
   "cell_type": "code",
   "execution_count": 231,
   "metadata": {
    "collapsed": false
   },
   "outputs": [],
   "source": [
    "pizza_data_test['requester_received_pizza'] = y_real_pred.astype(int)\n",
    "pizza_data_test.to_csv('../results.csv', columns=['request_id', 'requester_received_pizza'], index=False)\n"
   ]
  },
  {
   "cell_type": "code",
   "execution_count": 231,
   "metadata": {
    "collapsed": false
   },
   "outputs": [],
   "source": []
  }
 ],
 "metadata": {
  "kernelspec": {
   "display_name": "Python 2",
   "language": "python",
   "name": "python2"
  },
  "language_info": {
   "codemirror_mode": {
    "name": "ipython",
    "version": 2
   },
   "file_extension": ".py",
   "mimetype": "text/x-python",
   "name": "python",
   "nbconvert_exporter": "python",
   "pygments_lexer": "ipython2",
   "version": "2.7.9"
  }
 },
 "nbformat": 4,
 "nbformat_minor": 0
}
