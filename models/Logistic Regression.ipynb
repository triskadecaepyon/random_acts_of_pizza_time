{
 "metadata": {
  "name": "",
  "signature": "sha256:9f7497f4bdf65022a99ac7f87adf024a33d9e0f4c515fadb763dcef942375102"
 },
 "nbformat": 3,
 "nbformat_minor": 0,
 "worksheets": [
  {
   "cells": [
    {
     "cell_type": "markdown",
     "metadata": {},
     "source": [
      "#Logistic Regression\n",
      "\n",
      "An attempt at creating a predictive model for _random acts of pizza_ using a Logistic regression model.  Currently removes all the non-test features, and drops some of the NLP features (for future integration)."
     ]
    },
    {
     "cell_type": "code",
     "collapsed": false,
     "input": [
      "import numpy as np\n",
      "import pandas as pd\n",
      "import matplotlib.pyplot as plt\n",
      "%matplotlib inline\n",
      "\n",
      "# Import the datasets via the read_json method from pandas\n",
      "pizza_data_train = pd.read_json('../data/train.json')\n",
      "pizza_data_test = pd.read_json('../data/test.json')\n",
      "\n",
      "# Analyze the size of the datasets\n",
      "print \"Shape of training data:\" + str(pizza_data_train.shape)\n",
      "print \"Shape of test data:\" + str(pizza_data_test.shape)\n",
      "\n"
     ],
     "language": "python",
     "metadata": {},
     "outputs": [
      {
       "output_type": "stream",
       "stream": "stdout",
       "text": [
        "Shape of training data:(4040, 32)\n",
        "Shape of test data:(1631, 17)\n"
       ]
      }
     ],
     "prompt_number": 57
    },
    {
     "cell_type": "code",
     "collapsed": false,
     "input": [
      "import os, sys\n",
      "lib_path = os.path.abspath(os.path.join('..', '..'))\n",
      "sys.path.append(lib_path)\n",
      "from random_acts_of_pizza_time.preprocessing import preprocesser"
     ],
     "language": "python",
     "metadata": {},
     "outputs": [],
     "prompt_number": 58
    },
    {
     "cell_type": "code",
     "collapsed": false,
     "input": [
      "processed_set = preprocesser.reddit_pre_process_strategy(pizza_data_train)\n",
      "processed_set.head()"
     ],
     "language": "python",
     "metadata": {},
     "outputs": [
      {
       "html": [
        "<div style=\"max-height:1000px;max-width:1500px;overflow:auto;\">\n",
        "<table border=\"1\" class=\"dataframe\">\n",
        "  <thead>\n",
        "    <tr style=\"text-align: right;\">\n",
        "      <th></th>\n",
        "      <th>giver_username_if_known</th>\n",
        "      <th>request_id</th>\n",
        "      <th>request_text_edit_aware</th>\n",
        "      <th>request_title</th>\n",
        "      <th>requester_account_age_in_days_at_request</th>\n",
        "      <th>requester_days_since_first_post_on_raop_at_request</th>\n",
        "      <th>requester_number_of_comments_at_request</th>\n",
        "      <th>requester_number_of_comments_in_raop_at_request</th>\n",
        "      <th>requester_number_of_posts_at_request</th>\n",
        "      <th>requester_number_of_posts_on_raop_at_request</th>\n",
        "      <th>requester_number_of_subreddits_at_request</th>\n",
        "      <th>requester_received_pizza</th>\n",
        "      <th>requester_subreddits_at_request</th>\n",
        "      <th>requester_upvotes_minus_downvotes_at_request</th>\n",
        "      <th>requester_upvotes_plus_downvotes_at_request</th>\n",
        "      <th>requester_username</th>\n",
        "      <th>unix_timestamp_of_request_utc</th>\n",
        "    </tr>\n",
        "  </thead>\n",
        "  <tbody>\n",
        "    <tr>\n",
        "      <th>0</th>\n",
        "      <td> N/A</td>\n",
        "      <td>  t3_l25d7</td>\n",
        "      <td> Hi I am in need of food for my 4 children we a...</td>\n",
        "      <td>           Request Colorado Springs Help Us Please</td>\n",
        "      <td>   0.000000</td>\n",
        "      <td>   0.000000</td>\n",
        "      <td>   0</td>\n",
        "      <td> 0</td>\n",
        "      <td>  0</td>\n",
        "      <td> 0</td>\n",
        "      <td>  0</td>\n",
        "      <td> False</td>\n",
        "      <td>                                                []</td>\n",
        "      <td>    0</td>\n",
        "      <td>    0</td>\n",
        "      <td>       nickylvst</td>\n",
        "      <td> 21</td>\n",
        "    </tr>\n",
        "    <tr>\n",
        "      <th>1</th>\n",
        "      <td> N/A</td>\n",
        "      <td>  t3_rcb83</td>\n",
        "      <td> I spent the last money I had on gas today. Im ...</td>\n",
        "      <td> [Request] California, No cash and I could use ...</td>\n",
        "      <td> 501.111100</td>\n",
        "      <td>   0.000000</td>\n",
        "      <td>   0</td>\n",
        "      <td> 0</td>\n",
        "      <td> 15</td>\n",
        "      <td> 0</td>\n",
        "      <td> 12</td>\n",
        "      <td> False</td>\n",
        "      <td> [AskReddit, Eve, IAmA, MontereyBay, RandomKind...</td>\n",
        "      <td>   34</td>\n",
        "      <td>  116</td>\n",
        "      <td>       fohacidal</td>\n",
        "      <td>  4</td>\n",
        "    </tr>\n",
        "    <tr>\n",
        "      <th>2</th>\n",
        "      <td> N/A</td>\n",
        "      <td>  t3_lpu5j</td>\n",
        "      <td> My girlfriend decided it would be a good idea ...</td>\n",
        "      <td> [Request] Hungry couple in Dundee, Scotland wo...</td>\n",
        "      <td>   0.000000</td>\n",
        "      <td>   0.000000</td>\n",
        "      <td>   0</td>\n",
        "      <td> 0</td>\n",
        "      <td>  0</td>\n",
        "      <td> 0</td>\n",
        "      <td>  0</td>\n",
        "      <td> False</td>\n",
        "      <td>                                                []</td>\n",
        "      <td>    0</td>\n",
        "      <td>    0</td>\n",
        "      <td>   jacquibatman7</td>\n",
        "      <td> 16</td>\n",
        "    </tr>\n",
        "    <tr>\n",
        "      <th>3</th>\n",
        "      <td> N/A</td>\n",
        "      <td>  t3_mxvj3</td>\n",
        "      <td> It's cold, I'n hungry, and to be completely ho...</td>\n",
        "      <td> [Request] In Canada (Ontario), just got home f...</td>\n",
        "      <td>   6.518438</td>\n",
        "      <td>   0.000000</td>\n",
        "      <td>  36</td>\n",
        "      <td> 0</td>\n",
        "      <td>  1</td>\n",
        "      <td> 0</td>\n",
        "      <td>  4</td>\n",
        "      <td> False</td>\n",
        "      <td>      [AskReddit, DJs, IAmA, Random_Acts_Of_Pizza]</td>\n",
        "      <td>   54</td>\n",
        "      <td>   76</td>\n",
        "      <td>   4on_the_floor</td>\n",
        "      <td> 19</td>\n",
        "    </tr>\n",
        "    <tr>\n",
        "      <th>4</th>\n",
        "      <td> N/A</td>\n",
        "      <td> t3_1i6486</td>\n",
        "      <td> hey guys:\\n I love this sub. I think it's grea...</td>\n",
        "      <td> [Request] Old friend coming to visit. Would LO...</td>\n",
        "      <td> 162.063252</td>\n",
        "      <td> 101.606505</td>\n",
        "      <td> 140</td>\n",
        "      <td> 2</td>\n",
        "      <td> 14</td>\n",
        "      <td> 0</td>\n",
        "      <td> 11</td>\n",
        "      <td> False</td>\n",
        "      <td> [GayBrosWeightLoss, RandomActsOfCookies, Rando...</td>\n",
        "      <td> 1121</td>\n",
        "      <td> 1733</td>\n",
        "      <td> Futuredogwalker</td>\n",
        "      <td> 18</td>\n",
        "    </tr>\n",
        "  </tbody>\n",
        "</table>\n",
        "</div>"
       ],
       "metadata": {},
       "output_type": "pyout",
       "prompt_number": 59,
       "text": [
        "  giver_username_if_known request_id  \\\n",
        "0                     N/A   t3_l25d7   \n",
        "1                     N/A   t3_rcb83   \n",
        "2                     N/A   t3_lpu5j   \n",
        "3                     N/A   t3_mxvj3   \n",
        "4                     N/A  t3_1i6486   \n",
        "\n",
        "                             request_text_edit_aware  \\\n",
        "0  Hi I am in need of food for my 4 children we a...   \n",
        "1  I spent the last money I had on gas today. Im ...   \n",
        "2  My girlfriend decided it would be a good idea ...   \n",
        "3  It's cold, I'n hungry, and to be completely ho...   \n",
        "4  hey guys:\\n I love this sub. I think it's grea...   \n",
        "\n",
        "                                       request_title  \\\n",
        "0            Request Colorado Springs Help Us Please   \n",
        "1  [Request] California, No cash and I could use ...   \n",
        "2  [Request] Hungry couple in Dundee, Scotland wo...   \n",
        "3  [Request] In Canada (Ontario), just got home f...   \n",
        "4  [Request] Old friend coming to visit. Would LO...   \n",
        "\n",
        "   requester_account_age_in_days_at_request  \\\n",
        "0                                  0.000000   \n",
        "1                                501.111100   \n",
        "2                                  0.000000   \n",
        "3                                  6.518438   \n",
        "4                                162.063252   \n",
        "\n",
        "   requester_days_since_first_post_on_raop_at_request  \\\n",
        "0                                           0.000000    \n",
        "1                                           0.000000    \n",
        "2                                           0.000000    \n",
        "3                                           0.000000    \n",
        "4                                         101.606505    \n",
        "\n",
        "   requester_number_of_comments_at_request  \\\n",
        "0                                        0   \n",
        "1                                        0   \n",
        "2                                        0   \n",
        "3                                       36   \n",
        "4                                      140   \n",
        "\n",
        "   requester_number_of_comments_in_raop_at_request  \\\n",
        "0                                                0   \n",
        "1                                                0   \n",
        "2                                                0   \n",
        "3                                                0   \n",
        "4                                                2   \n",
        "\n",
        "   requester_number_of_posts_at_request  \\\n",
        "0                                     0   \n",
        "1                                    15   \n",
        "2                                     0   \n",
        "3                                     1   \n",
        "4                                    14   \n",
        "\n",
        "   requester_number_of_posts_on_raop_at_request  \\\n",
        "0                                             0   \n",
        "1                                             0   \n",
        "2                                             0   \n",
        "3                                             0   \n",
        "4                                             0   \n",
        "\n",
        "   requester_number_of_subreddits_at_request requester_received_pizza  \\\n",
        "0                                          0                    False   \n",
        "1                                         12                    False   \n",
        "2                                          0                    False   \n",
        "3                                          4                    False   \n",
        "4                                         11                    False   \n",
        "\n",
        "                     requester_subreddits_at_request  \\\n",
        "0                                                 []   \n",
        "1  [AskReddit, Eve, IAmA, MontereyBay, RandomKind...   \n",
        "2                                                 []   \n",
        "3       [AskReddit, DJs, IAmA, Random_Acts_Of_Pizza]   \n",
        "4  [GayBrosWeightLoss, RandomActsOfCookies, Rando...   \n",
        "\n",
        "   requester_upvotes_minus_downvotes_at_request  \\\n",
        "0                                             0   \n",
        "1                                            34   \n",
        "2                                             0   \n",
        "3                                            54   \n",
        "4                                          1121   \n",
        "\n",
        "   requester_upvotes_plus_downvotes_at_request requester_username  \\\n",
        "0                                            0          nickylvst   \n",
        "1                                          116          fohacidal   \n",
        "2                                            0      jacquibatman7   \n",
        "3                                           76      4on_the_floor   \n",
        "4                                         1733    Futuredogwalker   \n",
        "\n",
        "   unix_timestamp_of_request_utc  \n",
        "0                             21  \n",
        "1                              4  \n",
        "2                             16  \n",
        "3                             19  \n",
        "4                             18  "
       ]
      }
     ],
     "prompt_number": 59
    },
    {
     "cell_type": "markdown",
     "metadata": {},
     "source": [
      "Currently drops features which need NLP out of the dataset."
     ]
    },
    {
     "cell_type": "code",
     "collapsed": false,
     "input": [
      "processed_set = processed_set.drop('giver_username_if_known',1)\n",
      "processed_set = processed_set.drop('request_id',1)\n",
      "processed_set = processed_set.drop('requester_subreddits_at_request',1)\n",
      "processed_set = processed_set.drop('request_text_edit_aware',1)\n",
      "processed_set = processed_set.drop('request_title',1)\n",
      "processed_set = processed_set.drop('requester_username',1)\n",
      "\n",
      "for features in processed_set:\n",
      "    if features != \"requester_received_pizza\":\n",
      "        processed_set[features] = (processed_set[features]-processed_set[features].mean())/(processed_set[features].max()-processed_set[features].min())"
     ],
     "language": "python",
     "metadata": {},
     "outputs": [],
     "prompt_number": 60
    },
    {
     "cell_type": "markdown",
     "metadata": {},
     "source": [
      "##Creating the model"
     ]
    },
    {
     "cell_type": "code",
     "collapsed": false,
     "input": [
      "from sklearn.linear_model import LogisticRegression\n",
      "X = processed_set.drop('requester_received_pizza',1)\n",
      "model = LogisticRegression()\n",
      "model = model.fit(X, processed_set.requester_received_pizza)\n",
      "model.score(X, processed_set.requester_received_pizza)\n"
     ],
     "language": "python",
     "metadata": {},
     "outputs": [
      {
       "metadata": {},
       "output_type": "pyout",
       "prompt_number": 61,
       "text": [
        "0.75396039603960396"
       ]
      }
     ],
     "prompt_number": 61
    },
    {
     "cell_type": "markdown",
     "metadata": {},
     "source": [
      "##Model Coefficients"
     ]
    },
    {
     "cell_type": "code",
     "collapsed": false,
     "input": [
      "pd.DataFrame(zip(X.columns, np.transpose(model.coef_)))"
     ],
     "language": "python",
     "metadata": {},
     "outputs": [
      {
       "html": [
        "<div style=\"max-height:1000px;max-width:1500px;overflow:auto;\">\n",
        "<table border=\"1\" class=\"dataframe\">\n",
        "  <thead>\n",
        "    <tr style=\"text-align: right;\">\n",
        "      <th></th>\n",
        "      <th>0</th>\n",
        "      <th>1</th>\n",
        "    </tr>\n",
        "  </thead>\n",
        "  <tbody>\n",
        "    <tr>\n",
        "      <th>0</th>\n",
        "      <td>          requester_account_age_in_days_at_request</td>\n",
        "      <td> [0.000781638079593]</td>\n",
        "    </tr>\n",
        "    <tr>\n",
        "      <th>1</th>\n",
        "      <td> requester_days_since_first_post_on_raop_at_req...</td>\n",
        "      <td>  [0.00153447920357]</td>\n",
        "    </tr>\n",
        "    <tr>\n",
        "      <th>2</th>\n",
        "      <td>           requester_number_of_comments_at_request</td>\n",
        "      <td>  [0.00113574270662]</td>\n",
        "    </tr>\n",
        "    <tr>\n",
        "      <th>3</th>\n",
        "      <td>   requester_number_of_comments_in_raop_at_request</td>\n",
        "      <td> [0.000885204530555]</td>\n",
        "    </tr>\n",
        "    <tr>\n",
        "      <th>4</th>\n",
        "      <td>              requester_number_of_posts_at_request</td>\n",
        "      <td> [0.000209350891356]</td>\n",
        "    </tr>\n",
        "    <tr>\n",
        "      <th>5</th>\n",
        "      <td>      requester_number_of_posts_on_raop_at_request</td>\n",
        "      <td>    [0.001553679133]</td>\n",
        "    </tr>\n",
        "    <tr>\n",
        "      <th>6</th>\n",
        "      <td>         requester_number_of_subreddits_at_request</td>\n",
        "      <td> [0.000761404993372]</td>\n",
        "    </tr>\n",
        "    <tr>\n",
        "      <th>7</th>\n",
        "      <td>      requester_upvotes_minus_downvotes_at_request</td>\n",
        "      <td> [0.000135294304159]</td>\n",
        "    </tr>\n",
        "    <tr>\n",
        "      <th>8</th>\n",
        "      <td>       requester_upvotes_plus_downvotes_at_request</td>\n",
        "      <td> [9.09533641004e-05]</td>\n",
        "    </tr>\n",
        "    <tr>\n",
        "      <th>9</th>\n",
        "      <td>                     unix_timestamp_of_request_utc</td>\n",
        "      <td>  [0.00111826014512]</td>\n",
        "    </tr>\n",
        "  </tbody>\n",
        "</table>\n",
        "</div>"
       ],
       "metadata": {},
       "output_type": "pyout",
       "prompt_number": 62,
       "text": [
        "                                                   0                    1\n",
        "0           requester_account_age_in_days_at_request  [0.000781638079593]\n",
        "1  requester_days_since_first_post_on_raop_at_req...   [0.00153447920357]\n",
        "2            requester_number_of_comments_at_request   [0.00113574270662]\n",
        "3    requester_number_of_comments_in_raop_at_request  [0.000885204530555]\n",
        "4               requester_number_of_posts_at_request  [0.000209350891356]\n",
        "5       requester_number_of_posts_on_raop_at_request     [0.001553679133]\n",
        "6          requester_number_of_subreddits_at_request  [0.000761404993372]\n",
        "7       requester_upvotes_minus_downvotes_at_request  [0.000135294304159]\n",
        "8        requester_upvotes_plus_downvotes_at_request  [9.09533641004e-05]\n",
        "9                      unix_timestamp_of_request_utc   [0.00111826014512]"
       ]
      }
     ],
     "prompt_number": 62
    },
    {
     "cell_type": "markdown",
     "metadata": {},
     "source": [
      "##Confusion Matrix"
     ]
    },
    {
     "cell_type": "code",
     "collapsed": false,
     "input": [
      "y_pred = model.predict(X)\n",
      "from sklearn.metrics import confusion_matrix\n",
      "conf = confusion_matrix(processed_set.requester_received_pizza, y_pred)\n",
      "conf"
     ],
     "language": "python",
     "metadata": {},
     "outputs": [
      {
       "metadata": {},
       "output_type": "pyout",
       "prompt_number": 63,
       "text": [
        "array([[3046,    0],\n",
        "       [ 994,    0]])"
       ]
      }
     ],
     "prompt_number": 63
    },
    {
     "cell_type": "markdown",
     "metadata": {},
     "source": [
      "##Decision Tree Classifier"
     ]
    },
    {
     "cell_type": "code",
     "collapsed": false,
     "input": [
      "from sklearn.tree import DecisionTreeClassifier\n",
      "X = processed_set.drop('requester_received_pizza',1)\n",
      "model = DecisionTreeClassifier()\n",
      "model = model.fit(X, processed_set.requester_received_pizza)\n",
      "print model.score(X, processed_set.requester_received_pizza)\n",
      "print pd.DataFrame(zip(X.columns, np.transpose(model.feature_importances_)))\n",
      "\n",
      "y_pred = model.predict(X)\n",
      "from sklearn.metrics import confusion_matrix\n",
      "conf = confusion_matrix(processed_set.requester_received_pizza, y_pred)\n",
      "conf"
     ],
     "language": "python",
     "metadata": {},
     "outputs": [
      {
       "output_type": "stream",
       "stream": "stdout",
       "text": [
        "0.97004950495\n",
        "                                                   0         1\n",
        "0           requester_account_age_in_days_at_request  0.158873\n",
        "1  requester_days_since_first_post_on_raop_at_req...  0.043112\n",
        "2            requester_number_of_comments_at_request  0.122893\n",
        "3    requester_number_of_comments_in_raop_at_request  0.041266\n",
        "4               requester_number_of_posts_at_request  0.085886\n",
        "5       requester_number_of_posts_on_raop_at_request  0.011236\n",
        "6          requester_number_of_subreddits_at_request  0.109881\n",
        "7       requester_upvotes_minus_downvotes_at_request  0.172293\n",
        "8        requester_upvotes_plus_downvotes_at_request  0.139536\n",
        "9                      unix_timestamp_of_request_utc  0.115024\n"
       ]
      },
      {
       "metadata": {},
       "output_type": "pyout",
       "prompt_number": 64,
       "text": [
        "array([[3046,    0],\n",
        "       [ 121,  873]])"
       ]
      }
     ],
     "prompt_number": 64
    },
    {
     "cell_type": "code",
     "collapsed": false,
     "input": [
      "##Random Forest Classifier"
     ],
     "language": "python",
     "metadata": {},
     "outputs": [],
     "prompt_number": 65
    },
    {
     "cell_type": "code",
     "collapsed": false,
     "input": [
      "from sklearn.ensemble import RandomForestClassifier\n",
      "X = processed_set.drop('requester_received_pizza',1)\n",
      "model = RandomForestClassifier(n_estimators=100)\n",
      "model = model.fit(X, processed_set.requester_received_pizza)\n",
      "print model.score(X, processed_set.requester_received_pizza)\n",
      "print pd.DataFrame(zip(X.columns, np.transpose(model.feature_importances_)))\n",
      "\n",
      "y_pred = model.predict(X)\n",
      "from sklearn.metrics import confusion_matrix\n",
      "conf = confusion_matrix(processed_set.requester_received_pizza, y_pred)\n",
      "conf"
     ],
     "language": "python",
     "metadata": {},
     "outputs": [
      {
       "output_type": "stream",
       "stream": "stdout",
       "text": [
        "0.97004950495\n",
        "                                                   0         1\n",
        "0           requester_account_age_in_days_at_request  0.156664\n",
        "1  requester_days_since_first_post_on_raop_at_req...  0.042973\n",
        "2            requester_number_of_comments_at_request  0.119794\n",
        "3    requester_number_of_comments_in_raop_at_request  0.037287\n",
        "4               requester_number_of_posts_at_request  0.103713\n",
        "5       requester_number_of_posts_on_raop_at_request  0.015122\n",
        "6          requester_number_of_subreddits_at_request  0.109643\n",
        "7       requester_upvotes_minus_downvotes_at_request  0.149700\n",
        "8        requester_upvotes_plus_downvotes_at_request  0.154874\n",
        "9                      unix_timestamp_of_request_utc  0.110230\n"
       ]
      },
      {
       "metadata": {},
       "output_type": "pyout",
       "prompt_number": 66,
       "text": [
        "array([[3046,    0],\n",
        "       [ 121,  873]])"
       ]
      }
     ],
     "prompt_number": 66
    },
    {
     "cell_type": "code",
     "collapsed": false,
     "input": [],
     "language": "python",
     "metadata": {},
     "outputs": [],
     "prompt_number": 66
    }
   ],
   "metadata": {}
  }
 ]
}